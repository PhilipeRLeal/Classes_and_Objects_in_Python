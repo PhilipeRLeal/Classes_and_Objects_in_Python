{
 "cells": [
  {
   "cell_type": "markdown",
   "metadata": {},
   "source": [
    "**Classifying Muffins and Cupcakes with SVM**"
   ]
  },
  {
   "cell_type": "markdown",
   "metadata": {},
   "source": [
    "__Step 1:__ Import Packages"
   ]
  },
  {
   "cell_type": "code",
   "execution_count": 2,
   "metadata": {
    "collapsed": true
   },
   "outputs": [],
   "source": [
    "# -*- coding: utf-8 -*-\n",
    "# Packages for analysis\n",
    "import pandas as pd\n",
    "import numpy as np\n",
    "from sklearn import svm\n",
    "import matplotlib.ticker as plticker\n",
    "\n",
    "# Packages for visuals\n",
    "import matplotlib.pyplot as plt\n",
    "from mpl_toolkits.mplot3d import Axes3D\n",
    "import seaborn as sns\n",
    "\n",
    "# Allows charts to appear in the notebook\n",
    "%matplotlib inline\n",
    "\n",
    "# Pickle package\n",
    "import pickle"
   ]
  },
  {
   "cell_type": "code",
   "execution_count": 5,
   "metadata": {
    "collapsed": true
   },
   "outputs": [],
   "source": [
    "# -*- coding: utf-8 -*-"
   ]
  },
  {
   "cell_type": "markdown",
   "metadata": {},
   "source": [
    "__Step 2:__ Import Data"
   ]
  },
  {
   "cell_type": "code",
   "execution_count": 4,
   "metadata": {},
   "outputs": [
    {
     "data": {
      "text/html": [
       "<div>\n",
       "<table border=\"1\" class=\"dataframe\">\n",
       "  <thead>\n",
       "    <tr style=\"text-align: right;\">\n",
       "      <th></th>\n",
       "      <th>Type</th>\n",
       "      <th>Flour</th>\n",
       "      <th>Milk</th>\n",
       "      <th>Sugar</th>\n",
       "      <th>Butter</th>\n",
       "      <th>Egg</th>\n",
       "      <th>Baking Powder</th>\n",
       "      <th>Vanilla</th>\n",
       "      <th>Salt</th>\n",
       "    </tr>\n",
       "  </thead>\n",
       "  <tbody>\n",
       "    <tr>\n",
       "      <th>0</th>\n",
       "      <td>Muffin</td>\n",
       "      <td>55</td>\n",
       "      <td>28</td>\n",
       "      <td>3</td>\n",
       "      <td>7</td>\n",
       "      <td>5</td>\n",
       "      <td>2</td>\n",
       "      <td>0</td>\n",
       "      <td>0</td>\n",
       "    </tr>\n",
       "    <tr>\n",
       "      <th>1</th>\n",
       "      <td>Muffin</td>\n",
       "      <td>47</td>\n",
       "      <td>24</td>\n",
       "      <td>12</td>\n",
       "      <td>6</td>\n",
       "      <td>9</td>\n",
       "      <td>1</td>\n",
       "      <td>0</td>\n",
       "      <td>0</td>\n",
       "    </tr>\n",
       "    <tr>\n",
       "      <th>2</th>\n",
       "      <td>Muffin</td>\n",
       "      <td>47</td>\n",
       "      <td>23</td>\n",
       "      <td>18</td>\n",
       "      <td>6</td>\n",
       "      <td>4</td>\n",
       "      <td>1</td>\n",
       "      <td>0</td>\n",
       "      <td>0</td>\n",
       "    </tr>\n",
       "    <tr>\n",
       "      <th>3</th>\n",
       "      <td>Muffin</td>\n",
       "      <td>45</td>\n",
       "      <td>11</td>\n",
       "      <td>17</td>\n",
       "      <td>17</td>\n",
       "      <td>8</td>\n",
       "      <td>1</td>\n",
       "      <td>0</td>\n",
       "      <td>0</td>\n",
       "    </tr>\n",
       "    <tr>\n",
       "      <th>4</th>\n",
       "      <td>Muffin</td>\n",
       "      <td>50</td>\n",
       "      <td>25</td>\n",
       "      <td>12</td>\n",
       "      <td>6</td>\n",
       "      <td>5</td>\n",
       "      <td>2</td>\n",
       "      <td>1</td>\n",
       "      <td>0</td>\n",
       "    </tr>\n",
       "    <tr>\n",
       "      <th>5</th>\n",
       "      <td>Muffin</td>\n",
       "      <td>55</td>\n",
       "      <td>27</td>\n",
       "      <td>3</td>\n",
       "      <td>7</td>\n",
       "      <td>5</td>\n",
       "      <td>2</td>\n",
       "      <td>1</td>\n",
       "      <td>0</td>\n",
       "    </tr>\n",
       "    <tr>\n",
       "      <th>6</th>\n",
       "      <td>Muffin</td>\n",
       "      <td>54</td>\n",
       "      <td>27</td>\n",
       "      <td>7</td>\n",
       "      <td>5</td>\n",
       "      <td>5</td>\n",
       "      <td>2</td>\n",
       "      <td>0</td>\n",
       "      <td>0</td>\n",
       "    </tr>\n",
       "    <tr>\n",
       "      <th>7</th>\n",
       "      <td>Muffin</td>\n",
       "      <td>47</td>\n",
       "      <td>26</td>\n",
       "      <td>10</td>\n",
       "      <td>10</td>\n",
       "      <td>4</td>\n",
       "      <td>1</td>\n",
       "      <td>0</td>\n",
       "      <td>0</td>\n",
       "    </tr>\n",
       "    <tr>\n",
       "      <th>8</th>\n",
       "      <td>Muffin</td>\n",
       "      <td>50</td>\n",
       "      <td>17</td>\n",
       "      <td>17</td>\n",
       "      <td>8</td>\n",
       "      <td>6</td>\n",
       "      <td>1</td>\n",
       "      <td>0</td>\n",
       "      <td>0</td>\n",
       "    </tr>\n",
       "    <tr>\n",
       "      <th>9</th>\n",
       "      <td>Muffin</td>\n",
       "      <td>50</td>\n",
       "      <td>17</td>\n",
       "      <td>17</td>\n",
       "      <td>11</td>\n",
       "      <td>4</td>\n",
       "      <td>1</td>\n",
       "      <td>0</td>\n",
       "      <td>0</td>\n",
       "    </tr>\n",
       "    <tr>\n",
       "      <th>10</th>\n",
       "      <td>Cupcake</td>\n",
       "      <td>39</td>\n",
       "      <td>0</td>\n",
       "      <td>26</td>\n",
       "      <td>19</td>\n",
       "      <td>14</td>\n",
       "      <td>1</td>\n",
       "      <td>1</td>\n",
       "      <td>0</td>\n",
       "    </tr>\n",
       "    <tr>\n",
       "      <th>11</th>\n",
       "      <td>Cupcake</td>\n",
       "      <td>42</td>\n",
       "      <td>21</td>\n",
       "      <td>16</td>\n",
       "      <td>10</td>\n",
       "      <td>8</td>\n",
       "      <td>3</td>\n",
       "      <td>0</td>\n",
       "      <td>0</td>\n",
       "    </tr>\n",
       "    <tr>\n",
       "      <th>12</th>\n",
       "      <td>Cupcake</td>\n",
       "      <td>34</td>\n",
       "      <td>17</td>\n",
       "      <td>20</td>\n",
       "      <td>20</td>\n",
       "      <td>5</td>\n",
       "      <td>2</td>\n",
       "      <td>1</td>\n",
       "      <td>0</td>\n",
       "    </tr>\n",
       "    <tr>\n",
       "      <th>13</th>\n",
       "      <td>Cupcake</td>\n",
       "      <td>39</td>\n",
       "      <td>13</td>\n",
       "      <td>17</td>\n",
       "      <td>19</td>\n",
       "      <td>10</td>\n",
       "      <td>1</td>\n",
       "      <td>1</td>\n",
       "      <td>0</td>\n",
       "    </tr>\n",
       "    <tr>\n",
       "      <th>14</th>\n",
       "      <td>Cupcake</td>\n",
       "      <td>38</td>\n",
       "      <td>15</td>\n",
       "      <td>23</td>\n",
       "      <td>15</td>\n",
       "      <td>8</td>\n",
       "      <td>0</td>\n",
       "      <td>1</td>\n",
       "      <td>0</td>\n",
       "    </tr>\n",
       "    <tr>\n",
       "      <th>15</th>\n",
       "      <td>Cupcake</td>\n",
       "      <td>42</td>\n",
       "      <td>18</td>\n",
       "      <td>25</td>\n",
       "      <td>9</td>\n",
       "      <td>5</td>\n",
       "      <td>1</td>\n",
       "      <td>0</td>\n",
       "      <td>0</td>\n",
       "    </tr>\n",
       "    <tr>\n",
       "      <th>16</th>\n",
       "      <td>Cupcake</td>\n",
       "      <td>36</td>\n",
       "      <td>14</td>\n",
       "      <td>21</td>\n",
       "      <td>14</td>\n",
       "      <td>11</td>\n",
       "      <td>2</td>\n",
       "      <td>1</td>\n",
       "      <td>0</td>\n",
       "    </tr>\n",
       "    <tr>\n",
       "      <th>17</th>\n",
       "      <td>Cupcake</td>\n",
       "      <td>38</td>\n",
       "      <td>15</td>\n",
       "      <td>31</td>\n",
       "      <td>8</td>\n",
       "      <td>6</td>\n",
       "      <td>1</td>\n",
       "      <td>1</td>\n",
       "      <td>0</td>\n",
       "    </tr>\n",
       "    <tr>\n",
       "      <th>18</th>\n",
       "      <td>Cupcake</td>\n",
       "      <td>36</td>\n",
       "      <td>16</td>\n",
       "      <td>24</td>\n",
       "      <td>12</td>\n",
       "      <td>9</td>\n",
       "      <td>1</td>\n",
       "      <td>1</td>\n",
       "      <td>0</td>\n",
       "    </tr>\n",
       "    <tr>\n",
       "      <th>19</th>\n",
       "      <td>Cupcake</td>\n",
       "      <td>34</td>\n",
       "      <td>17</td>\n",
       "      <td>23</td>\n",
       "      <td>11</td>\n",
       "      <td>13</td>\n",
       "      <td>0</td>\n",
       "      <td>1</td>\n",
       "      <td>0</td>\n",
       "    </tr>\n",
       "  </tbody>\n",
       "</table>\n",
       "</div>"
      ],
      "text/plain": [
       "       Type  Flour  Milk  Sugar  Butter  Egg  Baking Powder  Vanilla  Salt\n",
       "0    Muffin     55    28      3       7    5              2        0     0\n",
       "1    Muffin     47    24     12       6    9              1        0     0\n",
       "2    Muffin     47    23     18       6    4              1        0     0\n",
       "3    Muffin     45    11     17      17    8              1        0     0\n",
       "4    Muffin     50    25     12       6    5              2        1     0\n",
       "5    Muffin     55    27      3       7    5              2        1     0\n",
       "6    Muffin     54    27      7       5    5              2        0     0\n",
       "7    Muffin     47    26     10      10    4              1        0     0\n",
       "8    Muffin     50    17     17       8    6              1        0     0\n",
       "9    Muffin     50    17     17      11    4              1        0     0\n",
       "10  Cupcake     39     0     26      19   14              1        1     0\n",
       "11  Cupcake     42    21     16      10    8              3        0     0\n",
       "12  Cupcake     34    17     20      20    5              2        1     0\n",
       "13  Cupcake     39    13     17      19   10              1        1     0\n",
       "14  Cupcake     38    15     23      15    8              0        1     0\n",
       "15  Cupcake     42    18     25       9    5              1        0     0\n",
       "16  Cupcake     36    14     21      14   11              2        1     0\n",
       "17  Cupcake     38    15     31       8    6              1        1     0\n",
       "18  Cupcake     36    16     24      12    9              1        1     0\n",
       "19  Cupcake     34    17     23      11   13              0        1     0"
      ]
     },
     "execution_count": 4,
     "metadata": {},
     "output_type": "execute_result"
    }
   ],
   "source": [
    "# Read in muffin and cupcake ingredient data\n",
    "recipes = pd.read_csv(r'C:\\Users\\Philipe Leal\\Dropbox\\Profissao\\Python\\Classificadores\\muffin-cupcake-master\\recipes_muffins_cupcakes.csv')\n",
    "recipes"
   ]
  },
  {
   "cell_type": "code",
   "execution_count": 6,
   "metadata": {},
   "outputs": [
    {
     "data": {
      "image/png": "[encoded data removed]",
      "text/plain": [
       "<matplotlib.figure.Figure at 0xa3d5710>"
      ]
     },
     "metadata": {},
     "output_type": "display_data"
    }
   ],
   "source": [
    "# Plot two ingredients\n",
    "sns.lmplot('Flour', 'Sugar', data=recipes, hue='Type', \n",
    "           palette='Set1', fit_reg=False, scatter_kws={\"s\": 70});"
   ]
  },
  {
   "cell_type": "markdown",
   "metadata": {},
   "source": [
    "__Step 3:__ Prepare the Data"
   ]
  },
  {
   "cell_type": "code",
   "execution_count": 111,
   "metadata": {},
   "outputs": [
    {
     "name": "stdout",
     "output_type": "stream",
     "text": [
      "[[55  3]\n",
      " [47 12]\n",
      " [47 18]\n",
      " [45 17]\n",
      " [50 12]\n",
      " [55  3]\n",
      " [54  7]\n",
      " [47 10]\n",
      " [50 17]\n",
      " [50 17]\n",
      " [39 26]\n",
      " [42 16]\n",
      " [34 20]\n",
      " [39 17]\n",
      " [38 23]\n",
      " [42 25]\n",
      " [36 21]\n",
      " [38 31]\n",
      " [36 24]\n",
      " [34 23]]\n",
      "\n",
      "\n",
      "[0 0 0 0 0 0 0 0 0 0 1 1 1 1 1 1 1 1 1 1]\n"
     ]
    }
   ],
   "source": [
    "# Specify inputs for the model\n",
    "# ingredients = recipes[['Flour', 'Milk', 'Sugar', 'Butter', 'Egg', 'Baking Powder', 'Vanilla', 'Salt']].as_matrix()\n",
    "ingredients = recipes[['Flour','Sugar']].as_matrix()\n",
    "type_label = np.where(recipes['Type']=='Muffin', 0, 1)\n",
    "\n",
    "print (ingredients)\n",
    "\n",
    "print('')\n",
    "print('')\n",
    "\n",
    "print(type_label)"
   ]
  },
  {
   "cell_type": "code",
   "execution_count": 129,
   "metadata": {},
   "outputs": [
    {
     "name": "stdout",
     "output_type": "stream",
     "text": [
      "('Recipe features \\xc3\\xa9: ', <type 'list'>)\n",
      "\n",
      "['Flour', 'Milk', 'Sugar', 'Butter', 'Egg', 'Baking Powder', 'Vanilla', 'Salt']\n"
     ]
    }
   ],
   "source": [
    "# Feature names\n",
    "recipe_features = recipes.columns.values[1:].tolist()\n",
    "\n",
    "print(\"Recipe features é: \", type(recipe_features))\n",
    "\n",
    "print('')\n",
    "\n",
    "print(recipe_features)"
   ]
  },
  {
   "cell_type": "markdown",
   "metadata": {},
   "source": [
    "__Step 4:__ Fit the Model"
   ]
  },
  {
   "cell_type": "code",
   "execution_count": 130,
   "metadata": {},
   "outputs": [
    {
     "data": {
      "text/plain": [
       "SVC(C=1.0, cache_size=200, class_weight=None, coef0=0.0,\n",
       "  decision_function_shape=None, degree=3, gamma='auto', kernel='linear',\n",
       "  max_iter=-1, probability=False, random_state=None, shrinking=True,\n",
       "  tol=0.001, verbose=False)"
      ]
     },
     "execution_count": 130,
     "metadata": {},
     "output_type": "execute_result"
    }
   ],
   "source": [
    "# Fit the SVM model\n",
    "model = svm.SVC(kernel='linear')\n",
    "model.fit(ingredients, type_label)"
   ]
  },
  {
   "cell_type": "markdown",
   "metadata": {},
   "source": [
    "__Step 5:__ Visualize Results"
   ]
  },
  {
   "cell_type": "code",
   "execution_count": 133,
   "metadata": {},
   "outputs": [
    {
     "name": "stdout",
     "output_type": "stream",
     "text": [
      "[ 30.          30.6122449   31.2244898   31.83673469  32.44897959\n",
      "  33.06122449  33.67346939  34.28571429  34.89795918  35.51020408\n",
      "  36.12244898  36.73469388  37.34693878  37.95918367  38.57142857\n",
      "  39.18367347  39.79591837  40.40816327  41.02040816  41.63265306\n",
      "  42.24489796  42.85714286  43.46938776  44.08163265  44.69387755\n",
      "  45.30612245  45.91836735  46.53061224  47.14285714  47.75510204\n",
      "  48.36734694  48.97959184  49.59183673  50.20408163  50.81632653\n",
      "  51.42857143  52.04081633  52.65306122  53.26530612  53.87755102\n",
      "  54.48979592  55.10204082  55.71428571  56.32653061  56.93877551\n",
      "  57.55102041  58.16326531  58.7755102   59.3877551   60.        ]\n",
      "[  1.15779472e+16   1.10528750e+16   1.05278028e+16   1.00027306e+16\n",
      "   9.47765844e+15   8.95258624e+15   8.42751405e+15   7.90244185e+15\n",
      "   7.37736965e+15   6.85229746e+15   6.32722526e+15   5.80215306e+15\n",
      "   5.27708087e+15   4.75200867e+15   4.22693647e+15   3.70186428e+15\n",
      "   3.17679208e+15   2.65171988e+15   2.12664769e+15   1.60157549e+15\n",
      "   1.07650329e+15   5.51431096e+14   2.63588995e+13  -4.98713297e+14\n",
      "  -1.02378549e+15  -1.54885769e+15  -2.07392989e+15  -2.59900208e+15\n",
      "  -3.12407428e+15  -3.64914648e+15  -4.17421867e+15  -4.69929087e+15\n",
      "  -5.22436307e+15  -5.74943526e+15  -6.27450746e+15  -6.79957966e+15\n",
      "  -7.32465185e+15  -7.84972405e+15  -8.37479625e+15  -8.89986844e+15\n",
      "  -9.42494064e+15  -9.95001284e+15  -1.04750850e+16  -1.10001572e+16\n",
      "  -1.15252294e+16  -1.20503016e+16  -1.25753738e+16  -1.31004460e+16\n",
      "  -1.36255182e+16  -1.41505904e+16]\n"
     ]
    }
   ],
   "source": [
    "# Get the separating hyperplane\n",
    "w = model.coef_[0]\n",
    "a = -w[0] / w[1]\n",
    "xx = np.linspace(30, 60)\n",
    "yy = a * xx - (model.intercept_[0]) / w[1]\n",
    "\n",
    "print(xx)\n",
    "print(yy)\n",
    "# Plot the parallels to the separating hyperplane that pass through the support vectors\n",
    "b = model.support_vectors_[0]\n",
    "yy_down = a * xx + (b[1] - a * b[0])\n",
    "b = model.support_vectors_[-1]\n",
    "yy_up = a * xx + (b[1] - a * b[0])"
   ]
  },
  {
   "cell_type": "code",
   "execution_count": 18,
   "metadata": {},
   "outputs": [
    {
     "data": {
      "image/png": "[encoded data removed]",
      "text/plain": [
       "<matplotlib.figure.Figure at 0x10ae94828>"
      ]
     },
     "metadata": {},
     "output_type": "display_data"
    }
   ],
   "source": [
    "# Plot the hyperplane\n",
    "sns.lmplot('Flour', 'Sugar', data=recipes, hue='Type', palette='Set1', fit_reg=False, scatter_kws={\"s\": 70})\n",
    "plt.plot(xx, yy, linewidth=2, color='black');"
   ]
  },
  {
   "cell_type": "code",
   "execution_count": 19,
   "metadata": {},
   "outputs": [
    {
     "data": {
      "text/plain": [
       "<matplotlib.collections.PathCollection at 0x10b034f60>"
      ]
     },
     "execution_count": 19,
     "metadata": {},
     "output_type": "execute_result"
    },
    {
     "data": {
      "image/png": "[encoded data removed]",
      "text/plain": [
       "<matplotlib.figure.Figure at 0x10ae99588>"
      ]
     },
     "metadata": {},
     "output_type": "display_data"
    }
   ],
   "source": [
    "# Look at the margins and support vectors\n",
    "sns.lmplot('Flour', 'Sugar', data=recipes, hue='Type', palette='Set1', fit_reg=False, scatter_kws={\"s\": 70})\n",
    "plt.plot(xx, yy, linewidth=2, color='black')\n",
    "plt.plot(xx, yy_down, 'k--')\n",
    "plt.plot(xx, yy_up, 'k--')\n",
    "plt.scatter(model.support_vectors_[:, 0], model.support_vectors_[:, 1],\n",
    "            s=80, facecolors='none');"
   ]
  },
  {
   "cell_type": "markdown",
   "metadata": {},
   "source": [
    "__Step 6:__ Predict New Case"
   ]
  },
  {
   "cell_type": "code",
   "execution_count": 20,
   "metadata": {
    "collapsed": true
   },
   "outputs": [],
   "source": [
    "# Create a function to guess when a recipe is a muffin or a cupcake\n",
    "def muffin_or_cupcake(flour, sugar):\n",
    "    if(model.predict([[flour, sugar]]))==0:\n",
    "        print('You\\'re looking at a muffin recipe!')\n",
    "    else:\n",
    "        print('You\\'re looking at a cupcake recipe!')"
   ]
  },
  {
   "cell_type": "code",
   "execution_count": 21,
   "metadata": {},
   "outputs": [
    {
     "name": "stdout",
     "output_type": "stream",
     "text": [
      "You're looking at a muffin recipe!\n"
     ]
    }
   ],
   "source": [
    "# Predict if 50 parts flour and 20 parts sugar\n",
    "muffin_or_cupcake(50, 20)"
   ]
  },
  {
   "cell_type": "code",
   "execution_count": 23,
   "metadata": {},
   "outputs": [
    {
     "data": {
      "image/png": "[encoded data removed]",
      "text/plain": [
       "<matplotlib.figure.Figure at 0x10b639b70>"
      ]
     },
     "metadata": {},
     "output_type": "display_data"
    }
   ],
   "source": [
    "# Plot the point to visually see where the point lies\n",
    "sns.lmplot('Flour', 'Sugar', data=recipes, hue='Type', palette='Set1', fit_reg=False, scatter_kws={\"s\": 70})\n",
    "plt.plot(xx, yy, linewidth=2, color='black')\n",
    "plt.plot(50, 20, 'yo', markersize='9');"
   ]
  },
  {
   "cell_type": "code",
   "execution_count": 24,
   "metadata": {},
   "outputs": [
    {
     "name": "stdout",
     "output_type": "stream",
     "text": [
      "You're looking at a cupcake recipe!\n"
     ]
    }
   ],
   "source": [
    "# Predict if 40 parts flour and 20 parts sugar\n",
    "muffin_or_cupcake(40,20)"
   ]
  },
  {
   "cell_type": "code",
   "execution_count": 137,
   "metadata": {
    "collapsed": true
   },
   "outputs": [],
   "source": [
    "muffin_cupcake_dict = {'muffin_cupcake_model': model, 'muffin_cupcake_features': ['Flour','Sugar'], 'all_features': recipe_features}"
   ]
  },
  {
   "cell_type": "code",
   "execution_count": 138,
   "metadata": {},
   "outputs": [
    {
     "data": {
      "text/plain": [
       "{'all_features': ['Flour',\n",
       "  'Milk',\n",
       "  'Sugar',\n",
       "  'Butter',\n",
       "  'Egg',\n",
       "  'Baking Powder',\n",
       "  'Vanilla',\n",
       "  'Salt'],\n",
       " 'muffin_cupcake_features': ['Flour', 'Sugar'],\n",
       " 'muffin_cupcake_model': SVC(C=1.0, cache_size=200, class_weight=None, coef0=0.0,\n",
       "   decision_function_shape=None, degree=3, gamma='auto', kernel='linear',\n",
       "   max_iter=-1, probability=False, random_state=None, shrinking=True,\n",
       "   tol=0.001, verbose=False)}"
      ]
     },
     "execution_count": 138,
     "metadata": {},
     "output_type": "execute_result"
    }
   ],
   "source": [
    "muffin_cupcake_dict"
   ]
  },
  {
   "cell_type": "code",
   "execution_count": 139,
   "metadata": {},
   "outputs": [],
   "source": [
    "# Pickle\n",
    "pickle.dump(muffin_cupcake_dict, open(\"muffin_cupcake_dict.p\", \"wb\"))"
   ]
  },
  {
   "cell_type": "code",
   "execution_count": 140,
   "metadata": {},
   "outputs": [
    {
     "data": {
      "text/plain": [
       "\"(dp0\\nS'muffin_cupcake_features'\\np1\\n(lp2\\nS'Flour'\\np3\\naS'Sugar'\\np4\\nasS'muffin_cupcake_model'\\np5\\nccopy_reg\\n_reconstructor\\np6\\n(csklearn.svm.classes\\nSVC\\np7\\nc__builtin__\\nobject\\np8\\nNtp9\\nRp10\\n(dp11\\nS'_impl'\\np12\\nS'c_svc'\\np13\\nsS'kernel'\\np14\\nS'linear'\\np15\\nsS'verbose'\\np16\\nI00\\nsS'probability'\\np17\\nI00\\nsS'classes_'\\np18\\ncnumpy.core.multiarray\\n_reconstruct\\np19\\n(cnumpy\\nndarray\\np20\\n(I0\\ntp21\\nS'b'\\np22\\ntp23\\nRp24\\n(I1\\n(I2\\ntp25\\ncnumpy\\ndtype\\np26\\n(S'i4'\\np27\\nI0\\nI1\\ntp28\\nRp29\\n(I3\\nS'<'\\np30\\nNNNI-1\\nI-1\\nI0\\ntp31\\nbI00\\nS'\\\\x00\\\\x00\\\\x00\\\\x00\\\\x01\\\\x00\\\\x00\\\\x00'\\np32\\ntp33\\nbsS'support_'\\np34\\ng19\\n(g20\\n(I0\\ntp35\\ng22\\ntp36\\nRp37\\n(I1\\n(I3\\ntp38\\ng29\\nI00\\nS'\\\\x03\\\\x00\\\\x00\\\\x00\\\\x0b\\\\x00\\\\x00\\\\x00\\\\x0f\\\\x00\\\\x00\\\\x00'\\np39\\ntp40\\nbsS'dual_coef_'\\np41\\ng19\\n(g20\\n(I0\\ntp42\\ng22\\ntp43\\nRp44\\n(I1\\n(I1\\nI3\\ntp45\\ng26\\n(S'f8'\\np46\\nI0\\nI1\\ntp47\\nRp48\\n(I3\\nS'<'\\np49\\nNNNI-1\\nI-1\\nI0\\ntp50\\nbI00\\nS'\\\\x19;\\\\x16\\\\x81\\\\xfdo\\\\xcc\\\\xbf5\\\\xdf\\\\xda9\\\\x1aG\\\\xc9? \\\\xdf\\\\xda9\\\\x1aG\\\\x99?'\\np51\\ntp52\\nbsS'shrinking'\\np53\\nI01\\nsS'class_weight'\\np54\\nNsS'_gamma'\\np55\\nF0.5\\nsS'probA_'\\np56\\ng19\\n(g20\\n(I0\\ntp57\\ng22\\ntp58\\nRp59\\n(I1\\n(I0\\ntp60\\ng48\\nI00\\nS''\\np61\\ntp62\\nbsS'_sparse'\\np63\\nI00\\nsS'class_weight_'\\np64\\ng19\\n(g20\\n(I0\\ntp65\\ng22\\ntp66\\nRp67\\n(I1\\n(I2\\ntp68\\ng48\\nI00\\nS'\\\\x00\\\\x00\\\\x00\\\\x00\\\\x00\\\\x00\\\\xf0?\\\\x00\\\\x00\\\\x00\\\\x00\\\\x00\\\\x00\\\\xf0?'\\np69\\ntp70\\nbsS'random_state'\\np71\\nNsS'_sklearn_version'\\np72\\nS'0.18.1'\\np73\\nsS'tol'\\np74\\nF0.001\\nsS'coef0'\\np75\\nF0.0\\nsS'nu'\\np76\\nF0.0\\nsS'n_support_'\\np77\\ng19\\n(g20\\n(I0\\ntp78\\ng22\\ntp79\\nRp80\\n(I1\\n(I2\\ntp81\\ng29\\nI00\\nS'\\\\x01\\\\x00\\\\x00\\\\x00\\\\x02\\\\x00\\\\x00\\\\x00'\\np82\\ntp83\\nbsS'shape_fit_'\\np84\\n(I20\\nI2\\ntp85\\nsS'C'\\np86\\nF1.0\\nsS'support_vectors_'\\np87\\ng19\\n(g20\\n(I0\\ntp88\\ng22\\ntp89\\nRp90\\n(I1\\n(I3\\nI2\\ntp91\\ng48\\nI00\\nS'\\\\x00\\\\x00\\\\x00\\\\x00\\\\x00\\\\x80F@\\\\x00\\\\x00\\\\x00\\\\x00\\\\x00\\\\x001@\\\\x00\\\\x00\\\\x00\\\\x00\\\\x00\\\\x00E@\\\\x00\\\\x00\\\\x00\\\\x00\\\\x00\\\\x000@\\\\x00\\\\x00\\\\x00\\\\x00\\\\x00\\\\x00E@\\\\x00\\\\x00\\\\x00\\\\x00\\\\x00\\\\x009@'\\np92\\ntp93\\nbsS'_dual_coef_'\\np94\\ng19\\n(g20\\n(I0\\ntp95\\ng22\\ntp96\\nRp97\\n(I1\\n(I1\\nI3\\ntp98\\ng48\\nI00\\nS'\\\\x19;\\\\x16\\\\x81\\\\xfdo\\\\xcc?5\\\\xdf\\\\xda9\\\\x1aG\\\\xc9\\\\xbf \\\\xdf\\\\xda9\\\\x1aG\\\\x99\\\\xbf'\\np99\\ntp100\\nbsS'degree'\\np101\\nI3\\nsS'epsilon'\\np102\\nF0.0\\nsS'max_iter'\\np103\\nI-1\\nsS'decision_function_shape'\\np104\\nNsS'fit_status_'\\np105\\nI0\\nsS'_intercept_'\\np106\\ng19\\n(g20\\n(I0\\ntp107\\ng22\\ntp108\\nRp109\\n(I1\\n(I1\\ntp110\\ng48\\nI00\\nS'\\\\xe9\\\\xbcm\\\\xd12\\\\xfe<\\\\xc0'\\np111\\ntp112\\nbsS'intercept_'\\np113\\ng19\\n(g20\\n(I0\\ntp114\\ng22\\ntp115\\nRp116\\n(I1\\n(I1\\ntp117\\ng48\\nI00\\nS'\\\\xe9\\\\xbcm\\\\xd12\\\\xfe<@'\\np118\\ntp119\\nbsS'probB_'\\np120\\ng19\\n(g20\\n(I0\\ntp121\\ng22\\ntp122\\nRp123\\n(I1\\n(I0\\ntp124\\ng48\\nI00\\ng61\\ntp125\\nbsS'cache_size'\\np126\\nI200\\nsS'gamma'\\np127\\nS'auto'\\np128\\nsbsS'all_features'\\np129\\n(lp130\\nS'Flour'\\np131\\naS'Milk'\\np132\\naS'Sugar'\\np133\\naS'Butter'\\np134\\naS'Egg'\\np135\\naS'Baking Powder'\\np136\\naS'Vanilla'\\np137\\naS'Salt'\\np138\\nas.\""
      ]
     },
     "execution_count": 140,
     "metadata": {},
     "output_type": "execute_result"
    }
   ],
   "source": [
    "# S = String\n",
    "pickle.dumps(muffin_cupcake_dict)"
   ]
  },
  {
   "cell_type": "code",
   "execution_count": null,
   "metadata": {
    "collapsed": true
   },
   "outputs": [],
   "source": [
    "from sklearn import k"
   ]
  }
 ],
 "metadata": {
  "kernelspec": {
   "display_name": "Python 2",
   "language": "python",
   "name": "python2"
  },
  "language_info": {
   "codemirror_mode": {
    "name": "ipython",
    "version": 2
   },
   "file_extension": ".py",
   "mimetype": "text/x-python",
   "name": "python",
   "nbconvert_exporter": "python",
   "pygments_lexer": "ipython2",
   "version": "2.7.14"
  },
  "toc": {
   "colors": {
    "hover_highlight": "#DAA520",
    "navigate_num": "#000000",
    "navigate_text": "#333333",
    "running_highlight": "#FF0000",
    "selected_highlight": "#FFD700",
    "sidebar_border": "#EEEEEE",
    "wrapper_background": "#FFFFFF"
   },
   "moveMenuLeft": true,
   "nav_menu": {
    "height": "12px",
    "width": "252px"
   },
   "navigate_menu": true,
   "number_sections": true,
   "sideBar": true,
   "threshold": 4,
   "toc_cell": false,
   "toc_section_display": "block",
   "toc_window_display": false,
   "widenNotebook": false
  }
 },
 "nbformat": 4,
 "nbformat_minor": 1
}
