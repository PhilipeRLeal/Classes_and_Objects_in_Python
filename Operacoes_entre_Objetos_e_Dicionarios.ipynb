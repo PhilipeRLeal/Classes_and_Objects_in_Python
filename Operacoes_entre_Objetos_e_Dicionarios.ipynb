{
 "cells": [
  {
   "cell_type": "markdown",
   "metadata": {},
   "source": [
    "# Operacoes Entre Objetos (instancias) e Dicionarios"
   ]
  },
  {
   "cell_type": "markdown",
   "metadata": {},
   "source": [
    "### Dicionarios:\n",
    "\n",
    "    1) Podem servir como armazenadores de Instâncias.\n",
    "\n",
    "    2) Permitem acesso às instâncias e aos seus atributos e propriedades\n",
    "    \n",
    "    3) Permitem alterar os atributos (mas não as propriedades) de cada instância ali presente"
   ]
  },
  {
   "cell_type": "markdown",
   "metadata": {},
   "source": [
    "# Exemplo de aplicação:\n",
    "\n",
    "    1) Criar classes de objeto\n",
    "    \n",
    "    2) Atribuir instâncias às Classes\n",
    "    \n",
    "    3) Armazenar em um dicionário cada Instância\n",
    "    \n",
    "    4) Acessar as Instâncias via Dicionário"
   ]
  },
  {
   "cell_type": "code",
   "execution_count": 5,
   "metadata": {
    "collapsed": true
   },
   "outputs": [],
   "source": [
    "# 1) Classes:\n",
    "\n",
    "#An example of a class\n",
    "class Shape:\n",
    "\n",
    "    def __init__(self, x, y):\n",
    "        self.x = x\n",
    "        self.y = y\n",
    "        self.description = \"This shape has not been described yet\"\n",
    "        self.author = \"Nobody has claimed to make this shape yet\"\n",
    "\n",
    "    def area(self):\n",
    "        return self.x * self.y\n",
    "\n",
    "    def perimeter(self):\n",
    "        return 2 * self.x + 2 * self.y\n",
    "\n",
    "    def describe(self, text):\n",
    "        self.description = text\n",
    "\n",
    "    def authorName(self, text):\n",
    "        self.author = text\n",
    "\n",
    "    def scaleSize(self, scale):\n",
    "        self.x = self.x * scale\n",
    "        self.y = self.y * scale"
   ]
  },
  {
   "cell_type": "code",
   "execution_count": 6,
   "metadata": {
    "collapsed": true
   },
   "outputs": [],
   "source": [
    "# Classes dentro de Classes: Inheritance:\n",
    "\n",
    "# Shape: Super Classe\n",
    "class Shape:\n",
    "    def __init__(self,x,y):\n",
    "        self.x = x\n",
    "        self.y = y\n",
    "        self.description = \"This shape has not been described yet\"\n",
    "        self.author = \"Nobody has claimed to make this shape yet\"\n",
    "    def area(self):\n",
    "        return self.x * self.y\n",
    "    def perimeter(self):\n",
    "        return 2 * self.x + 2 * self.y\n",
    "    def describe(self,text):\n",
    "        self.description = text\n",
    "    def authorName(self,text):\n",
    "        self.author = text\n",
    "    def scaleSize(self,scale):\n",
    "        self.x = self.x * scale\n",
    "        self.y = self.y * scale\n",
    "\n",
    "# Square e DoubleSquare: Sub Classes\n",
    "\n",
    "class Square(Shape):\n",
    "    def __init__(self,x):\n",
    "        self.x = x\n",
    "        self.y = x\n",
    "        \n",
    "class DoubleSquare(Square):\n",
    "    def __init__(self,y):\n",
    "        self.x = 2 * y\n",
    "        self.y = y\n",
    "    def perimeter(self):\n",
    "        return 2 * self.x + 3 * self.y"
   ]
  },
  {
   "cell_type": "code",
   "execution_count": 7,
   "metadata": {
    "collapsed": true
   },
   "outputs": [],
   "source": [
    "# 2) Atribuir instâncias às Classes\n",
    "# 3) Armazenar em um dicionário cada Instância\n",
    "\n",
    "dictionary = {}\n",
    "\n",
    "dictionary[\"DoubleSquare 1\"] = DoubleSquare(5)\n",
    "dictionary[\"long rectangle\"] = Shape(600,45)\n",
    "\n"
   ]
  },
  {
   "cell_type": "code",
   "execution_count": 8,
   "metadata": {
    "collapsed": false
   },
   "outputs": [
    {
     "name": "stdout",
     "output_type": "stream",
     "text": [
      "27000\n",
      "The Gingerbread Man\n"
     ]
    }
   ],
   "source": [
    "# 4) Acessar as Instâncias via Dicionário\n",
    "\n",
    "\n",
    "print(dictionary[\"long rectangle\"].area())\n",
    "\n",
    "dictionary[\"DoubleSquare 1\"].authorName(\"The Gingerbread Man\")\n",
    "print(dictionary[\"DoubleSquare 1\"].author)\n"
   ]
  },
  {
   "cell_type": "code",
   "execution_count": 9,
   "metadata": {
    "collapsed": false
   },
   "outputs": [
    {
     "name": "stdout",
     "output_type": "stream",
     "text": [
      "4500\n",
      "290\n",
      "1125.0\n"
     ]
    }
   ],
   "source": [
    "# Acessando Instâncias fora de Dicionario:\n",
    "\n",
    "# Criando Instâncias:\n",
    "\n",
    "rectangle = Shape(100, 45)\n",
    "long_rectangle = Shape(120,10)\n",
    "fat_rectangle = Shape(130,120)\n",
    "\n",
    "\n",
    "#finding the area of your rectangle:\n",
    "print(rectangle.area())\n",
    "\n",
    "#finding the perimeter of your rectangle:\n",
    "print(rectangle.perimeter())\n",
    "\n",
    "#describing the rectangle\n",
    "rectangle.describe(\"A wide rectangle, more than twice\\\n",
    " as wide as it is tall\")\n",
    "\n",
    "#making the rectangle 50% smaller\n",
    "rectangle.scaleSize(0.5)\n",
    "\n",
    "#re-printing the new area of the rectangle\n",
    "print(rectangle.area())"
   ]
  },
  {
   "cell_type": "code",
   "execution_count": null,
   "metadata": {
    "collapsed": true
   },
   "outputs": [],
   "source": []
  }
 ],
 "metadata": {
  "kernelspec": {
   "display_name": "Python 3",
   "language": "python",
   "name": "python3"
  },
  "language_info": {
   "codemirror_mode": {
    "name": "ipython",
    "version": 3
   },
   "file_extension": ".py",
   "mimetype": "text/x-python",
   "name": "python",
   "nbconvert_exporter": "python",
   "pygments_lexer": "ipython3",
   "version": "3.6.4"
  }
 },
 "nbformat": 4,
 "nbformat_minor": 2
}
